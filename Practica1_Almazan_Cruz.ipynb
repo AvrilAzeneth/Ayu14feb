{
  "nbformat": 4,
  "nbformat_minor": 0,
  "metadata": {
    "colab": {
      "provenance": []
    },
    "kernelspec": {
      "name": "python3",
      "display_name": "Python 3"
    },
    "language_info": {
      "name": "python"
    }
  },
  "cells": [
    {
      "cell_type": "markdown",
      "source": [
        "# Primera práctica: Validación de Paréntesis Bien Formados en una Cadena\n",
        "\n",
        "Considera el problema de determinar si una cadena dada consiste en paréntesis bien formados. Una cadena\n",
        "de paréntesis bien formados es aquella en la que cada paréntesis de apertura ‘(’ tiene un paréntesis de cierre\n",
        "correspondiente ‘)’, y estos ocurren en el orden correcto sin ningún par desparejado.\n",
        "\n",
        "La práctica consiste en crear un programa en Python 3 que, dada una cadena que sólo contiene caracteres ‘(’\n",
        "y ‘)’, pueda determinar si la cadena representa una secuencia de paréntesis bien formados."
      ],
      "metadata": {
        "id": "eHm2rGzw80cJ"
      }
    },
    {
      "cell_type": "code",
      "execution_count": null,
      "metadata": {
        "colab": {
          "base_uri": "https://localhost:8080/"
        },
        "id": "KnBJ3EOaBqYx",
        "outputId": "92d2ef00-29a7-4c1e-cfc8-3a1b1e6a24ba"
      },
      "outputs": [
        {
          "output_type": "stream",
          "name": "stdout",
          "text": [
            ")(\n",
            "No estan bien definidos los parentesis:  False\n"
          ]
        }
      ],
      "source": [
        "def check(parentesis):\n",
        "  '''Funcion que va checar dos tipos de parentesis: bien definidos y mal\n",
        "  definidos. Tambien, checa los simbolos que no pertenecen al alfabeto.'''\n",
        "\n",
        "  Booleano = False\n",
        "  # Se crea una variable que se comporta como un bool.\n",
        "  A_Parentesis = []\n",
        "  # Se hace la funcion de empezar una pila para almacenar los parentesis.\n",
        "\n",
        "  for i in parentesis:\n",
        "  # Se plantea un for que itera sobre cada caracter en la cadena de parentesis.\n",
        "        if i == '(':\n",
        "            A_Parentesis.append(i)\n",
        "            # Se agrega el parentesis a la pila con la funcion .append.\n",
        "        elif i == ')':\n",
        "            if not A_Parentesis or A_Parentesis[-1] != '(':\n",
        "\n",
        "             # Si la pila esta vacia o el ultimo elemento de la pila no es '(':\n",
        "                print(\"No estan bien definidos los parentesis: \", Booleano)\n",
        "                return Booleano\n",
        "            A_Parentesis.pop()\n",
        "            # Se usa la funcion .pop para quitar un parentesis.\n",
        "\n",
        "        # Si el caracter no es ni '(' ni ')' o es un espacio:\n",
        "        else:\n",
        "            print(\"No esta definido en el alfabeto: \", Booleano)\n",
        "            return Booleano\n",
        "\n",
        "  if A_Parentesis:\n",
        "        print(\"No estan bien definidos los parentesis: \", Booleano)\n",
        "  else:\n",
        "        print(\"Estan bien definidos los parentesis: \", bool(True))\n",
        "\n",
        "def main():\n",
        "  '''Funcion principal que ejecuta la funcion check con una variable aleatoria\n",
        "  que se le pide al usuario.'''\n",
        "\n",
        "  Par_En = input(\"\")    # Se le pide al usuario una cadena para checarla.\n",
        "  check(Par_En)         # Se usa la funcion que se creo para verificar.\n",
        "\n",
        "if __name__ == \"__main__\":\n",
        "  main()\n"
      ]
    }
  ]
}