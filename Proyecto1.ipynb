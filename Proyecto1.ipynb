{
  "nbformat": 4,
  "nbformat_minor": 0,
  "metadata": {
    "colab": {
      "provenance": []
    },
    "kernelspec": {
      "name": "python3",
      "display_name": "Python 3"
    },
    "language_info": {
      "name": "python"
    }
  },
  "cells": [
    {
      "cell_type": "markdown",
      "source": [
        "#Proyecto 1\n",
        "\n",
        "Para esta práctica, se deberá codificar un programa que pueda retornar el tiempo mínimo necesario para la\n",
        "elaboración de un proyecto, así como la lista de sus actividades críticas, dada una tabla de excel que contenga\n",
        "las actividades del proyecto, su descripción, sus actividades precedentes inmediatas y la duración de cada\n",
        "una de ellas.\n",
        "\n",
        "    Nota: Este programa funciona únicamente para gráficas acíclicas, es decir, que no tienen ciclos."
      ],
      "metadata": {
        "id": "_WPlpxBAVjx5"
      }
    },
    {
      "cell_type": "markdown",
      "source": [
        "  Pasos a seguir:\n",
        "\n",
        "    Paso 1: Transformar los archivos de excel en una red.\n",
        "    Paso 2: Seguir las reglas de construcción:\n",
        "    (a) Un único nodo no tiene predecesores y es definido como el nodo inicial.\n",
        "    (b) Un único nodo no tiene sucesores y es definido como el nodo final.(c) Cada actividad debe aparecer una única vez representada como un arco en la red y se encuentra contenida en un camino que recorre desde el nodo inicial al nodo final. Se puede emplear el uso de actividades ficticias para el cumplimiento de esta regla.\n",
        "    (d) Hay un camino que pasa sucesivamente a través de dos actividades si y sólo si la primera es un requisito previo de la segunda.\n",
        "    (e) Los pesos de los arcos estarán definidos como la duración de la actividad. Para los arcos ficticios, utilicen un peso nulo.\n",
        "    Paso 3: Determinar las fechas más próximas y fechas más lejanas para cada nodo.\n",
        "    Paso 4: Generar un reporte con formato “.txt” que contenga el tiempo mínimo necesitado para la elaboración del proyecto, así como las actividades críticas."
      ],
      "metadata": {
        "id": "z9XhWNfTWhry"
      }
    },
    {
      "cell_type": "code",
      "source": [
        "#Importamos las bibliotecas que usaremos.\n",
        "\n",
        "import pandas as pd\n",
        "from google.colab import drive\n",
        "drive.mount('/content/gdrive')\n",
        "\n",
        "def leer_archivo(arch_excel):\n",
        "  #esta funcion see encarga, como su nombre indica, de leer un archivo de excel.\n",
        "  arch = pd.read_excel(arch_excel)\n",
        "  return arch\n",
        "\n",
        "def extraer_columnas(datos):\n",
        "  #Extraemos por indice de columnas, es muy importante que se llamen literal como en el archivo.\n",
        "  actividades = datos[\"Actividad\"]\n",
        "  precedentes = datos[\"Precedentes\"]\n",
        "  duracion = datos[\"Duracion\"]\n",
        "  return (actividades, precedentes, duracion)\n",
        "\n",
        "def main():\n",
        "  #Recuperamos los datos del archivo.\n",
        "  file = '/content/gdrive/MyDrive/Progra2024-2/Creacion_de_la_carrera_de_mat_ap.xlsx'\n",
        "  datos = leer_archivo(file)\n",
        "  print(datos)\n",
        "\n",
        "  act, prec, dur = extraer_columnas(datos)\n",
        "  #print(dur)\n",
        "\n",
        "main()\n",
        "\n",
        "class Directed_graph:\n",
        "\n",
        "  def __init__(self):\n",
        "    #Creamos los objetos nodos y arcos y sus atributos.\n",
        "    self.nodos = []\n",
        "    self.arcos = []\n",
        "\n",
        "  def len_arcos(self):\n",
        "    return len(self.arcos)\n",
        "\n",
        "  def len_nodos(self):\n",
        "    return len(self.nodos)\n",
        "\n",
        "  def antecesores(self, nodo):\n",
        "    if nodo not in self.nodos:\n",
        "      print(nodo, \" no pertecece al conjunto de nodos\")\n",
        "      return []\n",
        "    else:\n",
        "      Ant = []\n",
        "      for x in self.arcos:\n",
        "          if nodo == x[-1]:\n",
        "            Ant.append(x[0])\n",
        "      return Ant\n",
        "\n",
        "  def sucesores(self, nodo):\n",
        "    if nodo not in self.nodos:\n",
        "      print(nodo, \" no pertecece al conjunto de nodos\")\n",
        "      return []\n",
        "    else:\n",
        "      Ant = []\n",
        "      for x in self.arcos:\n",
        "          if nodo == x[0]:\n",
        "            Ant.append(x[-1])\n",
        "      return Ant\n",
        "\n",
        "  def add_vertex (self, nodo):\n",
        "    self.nodos.append(nodo)\n",
        "\n",
        "  def add_arc (self, arco):\n",
        "    if type(arco) == tuple and len(arco) == 2:\n",
        "      if arco[0] in self.nodos and arco[1] in self.nodos:\n",
        "        self.arcos.append(arco)\n",
        "      else:\n",
        "        print(\"Las entradas no pertenecen a los nodos.\")\n",
        "    else:\n",
        "        print(\"El arco no es valido.\")"
      ],
      "metadata": {
        "colab": {
          "base_uri": "https://localhost:8080/"
        },
        "id": "S5NDJP9HWcXm",
        "outputId": "3bd23962-7d74-45a6-9114-6e17cb8dfbf0"
      },
      "execution_count": 17,
      "outputs": [
        {
          "output_type": "stream",
          "name": "stdout",
          "text": [
            "Drive already mounted at /content/gdrive; to attempt to forcibly remount, call drive.mount(\"/content/gdrive\", force_remount=True).\n",
            "    Actividad                                        Descripcion Precedentes  \\\n",
            "0           1                                Decision preliminar         NaN   \n",
            "1           2              Determinacion y analisis de objetivos           1   \n",
            "2           3                    Sugerencia del plan de estudios           2   \n",
            "3           4                       Presentacion de la propuesta           3   \n",
            "4           5  Consulta con el sector academico del departame...           4   \n",
            "5           6        Consulta con el sector academico de la UNAM           4   \n",
            "6           7  Consulta con el sector academico de otras inst...           4   \n",
            "7           8  Consulta con el sector academico de otras inst...           4   \n",
            "8           9   Consulta con el sector administrativo de la UNAM           4   \n",
            "9          10  Analisis, discusion e incorporacion de sugeren...           5   \n",
            "10         11  Analisis, discusion e incorporacion de sugeren...           6   \n",
            "11         12  Analisis, discusion e incorporacion de sugeren...           7   \n",
            "12         13  Analisis, discusion e incorporacion de sugeren...           8   \n",
            "13         14  Analisis comparativo de planes similares en la...          11   \n",
            "14         15              Adicion de consideraciones nacionales      10, 14   \n",
            "15         16         Adicion de consideraciones internacionales  12, 13, 18   \n",
            "16         17           Elaboracion del documento administrativo       9, 16   \n",
            "17         18  Presentacion en el consejo tecnico de la Facul...          15   \n",
            "18         19                  Observaciones del consejo tecnico          18   \n",
            "19         20             Elaboracion del plan de estudios final      17, 19   \n",
            "20         21  Presentacion de propuesta definitiva a consejo...          20   \n",
            "\n",
            "    Duracion  \n",
            "0          3  \n",
            "1         15  \n",
            "2         10  \n",
            "3          2  \n",
            "4          8  \n",
            "5         10  \n",
            "6         10  \n",
            "7          8  \n",
            "8          5  \n",
            "9         20  \n",
            "10        10  \n",
            "11         8  \n",
            "12         6  \n",
            "13        10  \n",
            "14        20  \n",
            "15        15  \n",
            "16        10  \n",
            "17         3  \n",
            "18         8  \n",
            "19         8  \n",
            "20         8  \n"
          ]
        }
      ]
    },
    {
      "cell_type": "code",
      "source": [
        "datos = pd.read_excel(r'/content/gdrive/MyDrive/Progra2024-2/Creacion_de_la_carrera_de_mat_ap.xlsx')\n",
        "\n",
        "actividades = list(datos['Actividad'])\n",
        "print(actividades)\n",
        "\n",
        "precedentes = list(datos['Precedentes'])\n",
        "print(precedentes)\n",
        "\n",
        "duraciones = list(datos['Duracion'])\n",
        "print(duraciones)\n",
        "\n",
        "precedentes = list(datos['Precedentes'])\n",
        "print(precedentes)\n",
        "\n",
        "preced_nuevos = []\n",
        "\n",
        "for elemento in precedentes:\n",
        "    if isinstance(elemento, int):\n",
        "        # Si es un entero, lo añadimos directamente a la lista nueva\n",
        "        preced_nuevos.append(elemento)\n",
        "    elif isinstance(elemento, str):\n",
        "        # Si es una cadena de texto, la dividimos y agregamos los elementos a la lista nueva como una tupla de enteros\n",
        "        elementos_cadena = elemento.split(',')\n",
        "        tupla_enteros = tuple(int(e) for e in elementos_cadena)\n",
        "        preced_nuevos.append(tupla_enteros)\n",
        "    elif isinstance(elemento, float):\n",
        "        # Si es un float como nan, lo convertimos a 0 y lo añadimos a la lista nueva\n",
        "        preced_nuevos.append(0)\n",
        "    else:\n",
        "        # esto para otros tipos de elementos que no entran en alguno de los demas casos\n",
        "        print(f\"Revise el dato pues se trata algo que no se puede utilizar. \")\n",
        "\n",
        "print(preced_nuevos)"
      ],
      "metadata": {
        "colab": {
          "base_uri": "https://localhost:8080/"
        },
        "id": "S3SEpgyqbriV",
        "outputId": "55e93c41-d1b2-4712-c40e-726e37b45790"
      },
      "execution_count": 20,
      "outputs": [
        {
          "output_type": "stream",
          "name": "stdout",
          "text": [
            "[1, 2, 3, 4, 5, 6, 7, 8, 9, 10, 11, 12, 13, 14, 15, 16, 17, 18, 19, 20, 21]\n",
            "[nan, 1, 2, 3, 4, 4, 4, 4, 4, 5, 6, 7, 8, 11, '10, 14', '12, 13, 18', '9, 16', 15, 18, '17, 19', 20]\n",
            "[3, 15, 10, 2, 8, 10, 10, 8, 5, 20, 10, 8, 6, 10, 20, 15, 10, 3, 8, 8, 8]\n",
            "[nan, 1, 2, 3, 4, 4, 4, 4, 4, 5, 6, 7, 8, 11, '10, 14', '12, 13, 18', '9, 16', 15, 18, '17, 19', 20]\n",
            "[0, 1, 2, 3, 4, 4, 4, 4, 4, 5, 6, 7, 8, 11, (10, 14), (12, 13, 18), (9, 16), 15, 18, (17, 19), 20]\n"
          ]
        }
      ]
    },
    {
      "cell_type": "markdown",
      "source": [
        "\n",
        "\n",
        "```\n",
        "La siguiente clase resuelve un problema que surge al recuperar el archivo de excel. Notamos que en la columna de precedentes, hay filas donde se presentan más de dos datos. Esos datos, al intentar utilizarlos en una lista, se nos presentan como cadenas de texto.\n",
        "Asi que, lo siguiente se asegura de que los datos recuperados del archivo (dataframe) estén en un formato de lista de tuplas más comodo para usar.\n",
        "```\n",
        "\n"
      ],
      "metadata": {
        "id": "BeVR7IPzWkN_"
      }
    },
    {
      "cell_type": "code",
      "source": [
        "import pandas as pd\n",
        "\n",
        "class ProcesadorDatos:\n",
        "    def __init__(self, df):\n",
        "        self.df = df\n",
        "\n",
        "    def procesar_datos(self):\n",
        "        arcos = []\n",
        "        # Iteramos sobre las filas del dataframe, es decir, el archivo recuperado\n",
        "        for i, renglon in self.df.iterrows():\n",
        "            # Verificamos si hay un es un NaN o una cadena vacía en precedentes, porque siempre es un problema y lo atacamos con el isna\n",
        "            if pd.isna(renglon['Precedentes']) or renglon['Precedentes'] == '':\n",
        "                precedentes = (0)\n",
        "            # Entonces si es una cadena de texto, como cuando tienen más de dos precedentes sucede que:\n",
        "            elif isinstance(renglon['Precedentes'], str):\n",
        "                # Se divide la cadena por comas y see pasa a entero para que todo sean enteros y tuplas usando el split\n",
        "                precedentes = tuple(int(x.strip()) for x in renglon['Precedentes'].split(','))\n",
        "            # Si ya es un entero se mete directamente\n",
        "            else:\n",
        "                precedentes = (int(renglon['Precedentes']))\n",
        "\n",
        "            # Con eso se agrega a la tupla actividad y antecedentes, en ese orden\n",
        "            arcos.append((renglon['Actividad'], precedentes, renglon['Duracion']))\n",
        "\n",
        "        return arcos\n",
        "\n",
        "# Lo pase a manita pero en teoría debería funcionar con la listas que ya había\n",
        "data = {\n",
        "    'Actividad': [1, 2, 3, 4, 5, 6, 7, 8, 9, 10, 11, 12, 13, 14, 15, 16, 17, 18, 19, 20, 21],\n",
        "    'Precedentes': [None, 1, 2, 3, 4, 4, 4, 4, 4, 5, 6, 7, 8, 11, '10, 14', '12, 13, 18', '9, 16', 15, 18, '17, 19', 20],\n",
        "    'Duracion': [3, 15, 10, 2, 8, 10, 10, 8, 5, 20, 10, 8, 6, 10, 20, 15, 10, 3, 8, 8, 8]\n",
        "}\n",
        "\n",
        "df = pd.DataFrame(data)\n",
        "\n",
        "# Objeto ProcesadorDatos\n",
        "procesador = ProcesadorDatos(df)\n",
        "\n",
        "# Mandamos llamar a procesador de datos\n",
        "arcos_ordenados = procesador.procesar_datos()\n",
        "\n",
        "print(arcos_ordenados)"
      ],
      "metadata": {
        "colab": {
          "base_uri": "https://localhost:8080/"
        },
        "id": "4pTFy4nkYmoz",
        "outputId": "e733e097-7a60-4fe8-ce33-b2afc7522cc4"
      },
      "execution_count": 12,
      "outputs": [
        {
          "output_type": "stream",
          "name": "stdout",
          "text": [
            "[(1, 0, 3), (2, 1, 15), (3, 2, 10), (4, 3, 2), (5, 4, 8), (6, 4, 10), (7, 4, 10), (8, 4, 8), (9, 4, 5), (10, 5, 20), (11, 6, 10), (12, 7, 8), (13, 8, 6), (14, 11, 10), (15, (10, 14), 20), (16, (12, 13, 18), 15), (17, (9, 16), 10), (18, 15, 3), (19, 18, 8), (20, (17, 19), 8), (21, 20, 8)]\n"
          ]
        }
      ]
    },
    {
      "cell_type": "code",
      "source": [
        "# Ya tenemos tres listas de la misma longitud acomodadas genial\n",
        "actividades = list(datos['Actividad'])\n",
        "antecedentes = preced_nuevos\n",
        "duraciones = list(datos['Duracion'])\n",
        "\n",
        "# Usamos zip() para relacionar los elementos de las listas y crear una lista suprema\n",
        "lista_suprema = list(zip(actividades, antecedentes, duraciones))\n",
        "\n",
        "print(lista_suprema)\n",
        "\n",
        "longi4 = len(lista_suprema)\n",
        "print(longi4)\n",
        "\n",
        "# Convertimos la lista de tuplas en un diccionario\n",
        "diccionario = {tupla[0]: tupla[1:] for tupla in lista_suprema}\n",
        "\n",
        "print(diccionario)"
      ],
      "metadata": {
        "colab": {
          "base_uri": "https://localhost:8080/"
        },
        "id": "eyVkrok3dEBJ",
        "outputId": "1e5ef489-15a6-4cae-d208-e7aa2c8d54a2"
      },
      "execution_count": 22,
      "outputs": [
        {
          "output_type": "stream",
          "name": "stdout",
          "text": [
            "[(1, 0, 3), (2, 1, 15), (3, 2, 10), (4, 3, 2), (5, 4, 8), (6, 4, 10), (7, 4, 10), (8, 4, 8), (9, 4, 5), (10, 5, 20), (11, 6, 10), (12, 7, 8), (13, 8, 6), (14, 11, 10), (15, (10, 14), 20), (16, (12, 13, 18), 15), (17, (9, 16), 10), (18, 15, 3), (19, 18, 8), (20, (17, 19), 8), (21, 20, 8)]\n",
            "21\n",
            "{1: (0, 3), 2: (1, 15), 3: (2, 10), 4: (3, 2), 5: (4, 8), 6: (4, 10), 7: (4, 10), 8: (4, 8), 9: (4, 5), 10: (5, 20), 11: (6, 10), 12: (7, 8), 13: (8, 6), 14: (11, 10), 15: ((10, 14), 20), 16: ((12, 13, 18), 15), 17: ((9, 16), 10), 18: (15, 3), 19: (18, 8), 20: ((17, 19), 8), 21: (20, 8)}\n"
          ]
        }
      ]
    },
    {
      "cell_type": "code",
      "source": [
        "#La siguiente parte recibe los arcos ordenados, asi como nodos, para hacer la red.\n",
        "\n",
        "import numpy as np\n",
        "import pandas as pd\n",
        "\n",
        "#dic = {'A': ([], 3), 'B': (['A'], 15), 'C': (['B'], 10), 'D': (['C'], 2), 'E': (['D'], 8), 'F': (['D'], 10), 'G': (['D'], 10), 'H': (['D'], 8), 'I': (['D'], 5), 'J': (['E'], 20), 'K': (['F'], 10), 'L': (['G'], 8), 'M': (['H'], 6), 'N': (['K'], 10), 'O': (['J', 'N'], 20), 'P': (['L', 'M', 'R'], 15), 'Q': (['I', 'P'], 10), 'R': (['O'], 3), 'S': (['R'], 8), 'T': (['Q', 'S'], 8), 'U': (['T'], 8)}\n",
        "dic = {'A': [], 'B': ['A'], 'C': ['B'], 'D': ['C'], 'E': ['D'], 'F': ['D'], 'G': ['D'], 'H': ['D'], 'I': ['D'], 'J': ['E'], 'K': ['F'], 'L': ['G'], 'M': ['H'], 'N': ['K'], 'O': ['J', 'N'], 'P': ['L', 'M', 'R'], 'Q': ['I', 'P'], 'R': ['O'], 'S': ['R'], 'T': ['Q', 'S'], 'U': ['T']}\n",
        "sub = {}\n",
        "arcs = {}\n",
        "\n",
        "nodes = [0,1]\n",
        "done = [[], []]\n",
        "ind = 2\n",
        "arrows = []\n",
        "arcs = {}\n",
        "sub = {}\n",
        "for k, v in dic.items():\n",
        "    print(k)\n",
        "    if v == []:\n",
        "      print(k)\n",
        "      nodes.append(ind)\n",
        "      arrows.append((0, ind))\n",
        "      done.append([k])\n",
        "      arcs[k] = (0, ind)\n",
        "      ind += 1\n",
        "    elif not v in done:\n",
        "      separated = [[elem] for elem in v]\n",
        "      for elem in separated:\n",
        "         arrows.append((done.index(elem),ind))\n",
        "      done.append(v)\n",
        "      nodes.append(ind)\n",
        "      ind += 1\n",
        "      if sub[k] == []:\n",
        "         arrows.append((done.index(v), 1))\n",
        "         arcs[k] = (done.index(v), 1)\n",
        "      else:\n",
        "        nodes.append(ind)\n",
        "        arrows.append([k])\n",
        "        arcs[k] = (done.index(v), ind)\n",
        "        ind += 1\n",
        "    else:\n",
        "      if sub[k] == []:\n",
        "       arrows.append((done.index(v), 1))\n",
        "       arcs[k] = (done.index(v), 1)\n",
        "      else:\n",
        "        nodes.append(ind)\n",
        "        arrows.append((done.index(v), ind))\n",
        "        done.append([k])\n",
        "        arcs[k] = (done.index(v), ind)\n",
        "        ind += 1"
      ],
      "metadata": {
        "colab": {
          "base_uri": "https://localhost:8080/",
          "height": 276
        },
        "id": "OL5tGeCXx7Qx",
        "outputId": "795e1379-11bc-433c-dc35-aa2bae2341ec"
      },
      "execution_count": 49,
      "outputs": [
        {
          "output_type": "stream",
          "name": "stdout",
          "text": [
            "A\n",
            "A\n",
            "B\n"
          ]
        },
        {
          "output_type": "error",
          "ename": "KeyError",
          "evalue": "'B'",
          "traceback": [
            "\u001b[0;31m---------------------------------------------------------------------------\u001b[0m",
            "\u001b[0;31mKeyError\u001b[0m                                  Traceback (most recent call last)",
            "\u001b[0;32m<ipython-input-49-d3a8d6862b73>\u001b[0m in \u001b[0;36m<cell line: 15>\u001b[0;34m()\u001b[0m\n\u001b[1;32m     38\u001b[0m         \u001b[0mind\u001b[0m \u001b[0;34m+=\u001b[0m \u001b[0;36m1\u001b[0m\u001b[0;34m\u001b[0m\u001b[0;34m\u001b[0m\u001b[0m\n\u001b[1;32m     39\u001b[0m     \u001b[0;32melse\u001b[0m\u001b[0;34m:\u001b[0m\u001b[0;34m\u001b[0m\u001b[0;34m\u001b[0m\u001b[0m\n\u001b[0;32m---> 40\u001b[0;31m       \u001b[0;32mif\u001b[0m \u001b[0msub\u001b[0m\u001b[0;34m[\u001b[0m\u001b[0mk\u001b[0m\u001b[0;34m]\u001b[0m \u001b[0;34m==\u001b[0m \u001b[0;34m[\u001b[0m\u001b[0;34m]\u001b[0m\u001b[0;34m:\u001b[0m\u001b[0;34m\u001b[0m\u001b[0;34m\u001b[0m\u001b[0m\n\u001b[0m\u001b[1;32m     41\u001b[0m        \u001b[0marrows\u001b[0m\u001b[0;34m.\u001b[0m\u001b[0mappend\u001b[0m\u001b[0;34m(\u001b[0m\u001b[0;34m(\u001b[0m\u001b[0mdone\u001b[0m\u001b[0;34m.\u001b[0m\u001b[0mindex\u001b[0m\u001b[0;34m(\u001b[0m\u001b[0mv\u001b[0m\u001b[0;34m)\u001b[0m\u001b[0;34m,\u001b[0m \u001b[0;36m1\u001b[0m\u001b[0;34m)\u001b[0m\u001b[0;34m)\u001b[0m\u001b[0;34m\u001b[0m\u001b[0;34m\u001b[0m\u001b[0m\n\u001b[1;32m     42\u001b[0m        \u001b[0marcs\u001b[0m\u001b[0;34m[\u001b[0m\u001b[0mk\u001b[0m\u001b[0;34m]\u001b[0m \u001b[0;34m=\u001b[0m \u001b[0;34m(\u001b[0m\u001b[0mdone\u001b[0m\u001b[0;34m.\u001b[0m\u001b[0mindex\u001b[0m\u001b[0;34m(\u001b[0m\u001b[0mv\u001b[0m\u001b[0;34m)\u001b[0m\u001b[0;34m,\u001b[0m \u001b[0;36m1\u001b[0m\u001b[0;34m)\u001b[0m\u001b[0;34m\u001b[0m\u001b[0;34m\u001b[0m\u001b[0m\n",
            "\u001b[0;31mKeyError\u001b[0m: 'B'"
          ]
        }
      ]
    },
    {
      "cell_type": "code",
      "source": [
        "#La siguiente es otra alternativa para formar la red con nodos y arcos.\n",
        "\n",
        "!pip install criticalpath\n",
        "from criticalpath import Node\n",
        "import datetime\n",
        "import pandas as pd\n",
        "import matplotlib.pyplot as plt\n",
        "from matplotlib.patches import Patch\n",
        "\n",
        "p = Node(\"Proyecto\")\n",
        "\n",
        "actividades = [(\"A\", {\"duracion\": 0}),\n",
        "               (\"B\", {\"duracion\": 3}),\n",
        "               (\"C\", {\"duracion\": 15}),\n",
        "               (\"D\", {\"duracion\": 10}),\n",
        "               (\"E\", {\"duracion\": 2}),\n",
        "               (\"F\", {\"duracion\": 8}),\n",
        "               (\"G\", {\"duracion\": 10}),\n",
        "               (\"H\", {\"duracion\": 10}),\n",
        "               (\"I\", {\"duracion\": 8}),\n",
        "               (\"J\", {\"duracion\": 5}),\n",
        "               (\"K\", {\"duracion\": 20}),\n",
        "               (\"L\", {\"duracion\": 10}),\n",
        "               (\"M\", {\"duracion\": 8}),\n",
        "               (\"N\", {\"duracion\": 6}),\n",
        "               (\"O\", {\"duracion\": 0}),\n",
        "               (\"P\", {\"duracion\": 10}),\n",
        "               (\"Q\", {\"duracion\": 0}),\n",
        "               (\"R\", {\"duracion\": 20}),\n",
        "               (\"S\", {\"duracion\": 15}),\n",
        "               (\"T\", {\"duracion\": 3}),\n",
        "               (\"U\", {\"duracion\": 8}),\n",
        "               (\"V\", {\"duracion\": 0}),\n",
        "               (\"W\", {\"duracion\": 10}),\n",
        "               (\"X\", {\"duracion\": 0}),\n",
        "               (\"Y\", {\"duracion\": 8}),\n",
        "               (\"Z\", {\"duracion\": 8}),]\n",
        "\n",
        "precedentes = [(\"A\",\"B\"), (\"B\",\"C\"), (\"C\",\"D\"),(\"D\", \"E\"), (\"E\", \"F\"), (\"E\", \"G\"), (\"E\", \"H\"), (\"E\",\"I\"), (\"E\",\"J\"), (\"F\",\"K\"), (\"G\", \"L\"), (\"H\", \"M\"), (\"I\",\"N\"), (\"K\",\"O\"),  (\"L\",\"P\"), (\"P\", \"O\"), (\"M\",\"Q\"), (\"N\",\"Q\"), (\"O\",\"R\"), (\"R\",\"T\"), (\"T\",\"Q\"), (\"Q\", \"S\"), (\"J\",\"V\"), (\"T\",\"U\"), (\"U\", \"X\"), (\"V\", \"W\"), (\"W\", \"X\"), (\"X\", \"Y\"), (\"Y\", \"Z\")]\n",
        "\n",
        "for i in actividades:\n",
        "  p.add(Node(i[0], duration = i[1][\"duracion\"]))\n",
        "\n",
        "for j in precedentes:\n",
        "  p.link(j[0],j[1])\n",
        "\n",
        "p.update_all()\n",
        "\n",
        "p.get_critical_path() # Obtenemos las rutas criticas"
      ],
      "metadata": {
        "colab": {
          "base_uri": "https://localhost:8080/"
        },
        "id": "KWG6h7vHU9pA",
        "outputId": "b8e74194-aa89-4479-b19a-db74d4d1d40c"
      },
      "execution_count": 10,
      "outputs": [
        {
          "output_type": "stream",
          "name": "stdout",
          "text": [
            "Requirement already satisfied: criticalpath in /usr/local/lib/python3.10/dist-packages (0.1.5)\n"
          ]
        },
        {
          "output_type": "execute_result",
          "data": {
            "text/plain": [
              "[A, B, C, D, E, G, L, P, O, R, T, U, X, Y, Z]"
            ]
          },
          "metadata": {},
          "execution_count": 10
        }
      ]
    },
    {
      "cell_type": "code",
      "source": [
        "p.duration # Esta es la duracion del proyecto"
      ],
      "metadata": {
        "colab": {
          "base_uri": "https://localhost:8080/"
        },
        "id": "TNbRt2neVHAA",
        "outputId": "7751b09c-648a-49e8-886b-975a59cc5e83"
      },
      "execution_count": 11,
      "outputs": [
        {
          "output_type": "execute_result",
          "data": {
            "text/plain": [
              "107"
            ]
          },
          "metadata": {},
          "execution_count": 11
        }
      ]
    },
    {
      "cell_type": "code",
      "source": [
        "# Por ultimo, hacemos un reporte en formato .txt con los resultados obtenidos.\n",
        "\n",
        "lista_texto = [('A', 'Decision preliminar'),\n",
        "               ('B', 'Determinacion y analisis de objetivos'),\n",
        "               ('C', 'Decision preliminar'),\n",
        "               ('D', 'Presentacion de la propuesta'),\n",
        "               ('E', 'Consulta con el sector academico del departamento'),\n",
        "               ('G', 'Consulta con el sector academico de otras instituciones'),\n",
        "               ('L', 'Analisis, discusion e incorporacion de sugeren...'),\n",
        "               ('P', 'Adicion de consideraciones internacionales'),\n",
        "               ('R', 'Presentacion en el consejo tecnico de la Facu'),\n",
        "               ('T', 'Elaboracion del documento administrativo'),\n",
        "               ('U', 'Observaciones del consejo tecnic'),\n",
        "               ('Y', 'Elaboracion del plan de estudios final'),\n",
        "               ('Z', 'Presentacion de propuesta definitiva a consej')]\n",
        "\n",
        "with open('Reporteproyecto.txt', 'a') as archivo:\n",
        "    for texto in lista_texto:\n",
        "        texto_lista = f\"{texto[0]} : {texto[1]}\\n\"\n",
        "        archivo.write(texto_lista)"
      ],
      "metadata": {
        "id": "ecIbUpFDZ0lU"
      },
      "execution_count": 30,
      "outputs": []
    }
  ]
}